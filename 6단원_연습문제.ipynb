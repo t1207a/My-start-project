{
  "nbformat": 4,
  "nbformat_minor": 0,
  "metadata": {
    "colab": {
      "name": "6단원 연습문제",
      "provenance": [],
      "authorship_tag": "ABX9TyNj1VeV32PQey5IcX0eLcmy",
      "include_colab_link": true
    },
    "kernelspec": {
      "name": "python3",
      "display_name": "Python 3"
    }
  },
  "cells": [
    {
      "cell_type": "markdown",
      "metadata": {
        "id": "view-in-github",
        "colab_type": "text"
      },
      "source": [
        "<a href=\"https://colab.research.google.com/github/t1207a/My-start-project/blob/master/6%EB%8B%A8%EC%9B%90_%EC%97%B0%EC%8A%B5%EB%AC%B8%EC%A0%9C.ipynb\" target=\"_parent\"><img src=\"https://colab.research.google.com/assets/colab-badge.svg\" alt=\"Open In Colab\"/></a>"
      ]
    },
    {
      "cell_type": "code",
      "metadata": {
        "id": "PmPZFcem04eq"
      },
      "source": [
        "from sklearn.datasets import make_moons #make_moons 데이터셋 생성\r\n",
        "X, y = make_moons(n_samples=10000, noise=0.4, random_state=42)"
      ],
      "execution_count": 1,
      "outputs": []
    },
    {
      "cell_type": "code",
      "metadata": {
        "id": "FN5YQ5APjXhQ"
      },
      "source": [
        "from sklearn.model_selection import train_test_split\r\n",
        "X_train, X_test, y_train, y_test = train_test_split(X,y,test_size=0.2)"
      ],
      "execution_count": 2,
      "outputs": []
    },
    {
      "cell_type": "code",
      "metadata": {
        "colab": {
          "base_uri": "https://localhost:8080/"
        },
        "id": "qgq5FjHXlN03",
        "outputId": "11f48114-1755-483d-92d3-8b3ce6af8773"
      },
      "source": [
        "from sklearn.tree import DecisionTreeClassifier\r\n",
        "from sklearn.model_selection import GridSearchCV\r\n",
        "param_grid = [\r\n",
        "              {'max_leaf_nodes': list(range(2,100)),'min_samples_leaf':[2,3,4]}\r\n",
        "]\r\n",
        "grid_search = GridSearchCV(DecisionTreeClassifier(),param_grid,verbose=1,cv=3,n_jobs=-1)\r\n",
        "grid_search.fit(X_train,y_train)"
      ],
      "execution_count": 4,
      "outputs": [
        {
          "output_type": "stream",
          "text": [
            "Fitting 3 folds for each of 294 candidates, totalling 882 fits\n"
          ],
          "name": "stdout"
        },
        {
          "output_type": "stream",
          "text": [
            "[Parallel(n_jobs=-1)]: Using backend LokyBackend with 2 concurrent workers.\n",
            "[Parallel(n_jobs=-1)]: Done 360 tasks      | elapsed:    3.5s\n",
            "[Parallel(n_jobs=-1)]: Done 882 out of 882 | elapsed:    7.6s finished\n"
          ],
          "name": "stderr"
        },
        {
          "output_type": "execute_result",
          "data": {
            "text/plain": [
              "GridSearchCV(cv=3, error_score=nan,\n",
              "             estimator=DecisionTreeClassifier(ccp_alpha=0.0, class_weight=None,\n",
              "                                              criterion='gini', max_depth=None,\n",
              "                                              max_features=None,\n",
              "                                              max_leaf_nodes=None,\n",
              "                                              min_impurity_decrease=0.0,\n",
              "                                              min_impurity_split=None,\n",
              "                                              min_samples_leaf=1,\n",
              "                                              min_samples_split=2,\n",
              "                                              min_weight_fraction_leaf=0.0,\n",
              "                                              presort='deprecated',\n",
              "                                              random_state=None,\n",
              "                                              splitter='best'),\n",
              "             iid='deprecated', n_jobs=-1,\n",
              "             param_grid=[{'max_leaf_nodes': [2, 3, 4, 5, 6, 7, 8, 9, 10, 11, 12,\n",
              "                                             13, 14, 15, 16, 17, 18, 19, 20, 21,\n",
              "                                             22, 23, 24, 25, 26, 27, 28, 29, 30,\n",
              "                                             31, ...],\n",
              "                          'min_samples_leaf': [2, 3, 4]}],\n",
              "             pre_dispatch='2*n_jobs', refit=True, return_train_score=False,\n",
              "             scoring=None, verbose=1)"
            ]
          },
          "metadata": {
            "tags": []
          },
          "execution_count": 4
        }
      ]
    },
    {
      "cell_type": "code",
      "metadata": {
        "colab": {
          "base_uri": "https://localhost:8080/"
        },
        "id": "AVX1_ZHDn5lG",
        "outputId": "6ebc06d9-e3dd-40b3-9e31-15147eaf7d01"
      },
      "source": [
        "grid_search.best_params_"
      ],
      "execution_count": 5,
      "outputs": [
        {
          "output_type": "execute_result",
          "data": {
            "text/plain": [
              "{'max_leaf_nodes': 20, 'min_samples_leaf': 2}"
            ]
          },
          "metadata": {
            "tags": []
          },
          "execution_count": 5
        }
      ]
    },
    {
      "cell_type": "code",
      "metadata": {
        "colab": {
          "base_uri": "https://localhost:8080/"
        },
        "id": "57GxMu_loCie",
        "outputId": "0fc45cd0-1a24-4d0d-ad7c-4e8d7ee68a65"
      },
      "source": [
        "from sklearn.metrics import accuracy_score\r\n",
        "y_pred = grid_search.predict(X_test)\r\n",
        "accuracy_score(y_test,y_pred)"
      ],
      "execution_count": 8,
      "outputs": [
        {
          "output_type": "execute_result",
          "data": {
            "text/plain": [
              "0.8605"
            ]
          },
          "metadata": {
            "tags": []
          },
          "execution_count": 8
        }
      ]
    },
    {
      "cell_type": "code",
      "metadata": {
        "id": "bSomHrzaPKtz"
      },
      "source": [
        "# 8번 서브셋 1000개 생성\r\n",
        "from sklearn.model_selection import ShuffleSplit\r\n",
        "n_trees = 1000\r\n",
        "n_instances = 100\r\n",
        "mini_sets=[]\r\n",
        "\r\n",
        "ss= ShuffleSplit(n_splits = n_trees, test_size = len(X_train)-n_instances)\r\n",
        "for mini_train_index, mini_test_index in ss.split(X_train):\r\n",
        "    X_mini_train = X_train[mini_train_index]\r\n",
        "    y_mini_train = y_train[mini_train_index]\r\n",
        "    mini_sets.append((X_mini_train, y_mini_train))\r\n"
      ],
      "execution_count": 29,
      "outputs": []
    },
    {
      "cell_type": "code",
      "metadata": {
        "colab": {
          "base_uri": "https://localhost:8080/"
        },
        "id": "70wbfnmpqtzG",
        "outputId": "d0c51635-abec-4060-b9d4-80a882f8f6ca"
      },
      "source": [
        "from sklearn.base import clone\r\n",
        "import numpy as np\r\n",
        "forest = [clone(grid_search.best_estimator_) for _ in range(n_trees)]\r\n",
        "\r\n",
        "accuracy_scores = []\r\n",
        "\r\n",
        "for tree, (X_mini_train, y_mini_train) in zip(forest, mini_sets):\r\n",
        "    tree.fit(X_mini_train, y_mini_train)\r\n",
        "    \r\n",
        "    y_pred = tree.predict(X_test)\r\n",
        "    accuracy_scores.append(accuracy_score(y_test, y_pred))\r\n",
        "\r\n",
        "np.mean(accuracy_scores)"
      ],
      "execution_count": 31,
      "outputs": [
        {
          "output_type": "execute_result",
          "data": {
            "text/plain": [
              "0.7915045"
            ]
          },
          "metadata": {
            "tags": []
          },
          "execution_count": 31
        }
      ]
    },
    {
      "cell_type": "code",
      "metadata": {
        "id": "zY7U_kppsJED"
      },
      "source": [
        "Y_pred = np.empty([n_trees, len(X_test)], dtype=np.uint8)\r\n",
        "\r\n",
        "for tree_index, tree in enumerate(forest):\r\n",
        "    Y_pred[tree_index] = tree.predict(X_test)"
      ],
      "execution_count": 32,
      "outputs": []
    },
    {
      "cell_type": "code",
      "metadata": {
        "id": "frukas1TvUpw"
      },
      "source": [
        "from scipy.stats import mode\r\n",
        "\r\n",
        "y_pred_majority_votes, n_votes = mode(Y_pred, axis=0)"
      ],
      "execution_count": 34,
      "outputs": []
    },
    {
      "cell_type": "code",
      "metadata": {
        "colab": {
          "base_uri": "https://localhost:8080/"
        },
        "id": "WqybIjJuvW-h",
        "outputId": "ff0b1c00-d2f8-4b50-944d-cbc85d80e962"
      },
      "source": [
        "accuracy_score(y_test, y_pred_majority_votes.reshape([-1]))"
      ],
      "execution_count": 35,
      "outputs": [
        {
          "output_type": "execute_result",
          "data": {
            "text/plain": [
              "0.871"
            ]
          },
          "metadata": {
            "tags": []
          },
          "execution_count": 35
        }
      ]
    }
  ]
}